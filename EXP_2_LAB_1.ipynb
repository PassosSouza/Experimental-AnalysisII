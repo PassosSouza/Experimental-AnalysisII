{
 "cells": [
  {
   "cell_type": "markdown",
   "metadata": {
    "id": "Y1p7NTFPINQD"
   },
   "source": [
    "---\n",
    "Código para análise de dados do Experimento 2 de Laboratório de Física I\n",
    "\n",
    "Feito pelo aluno\n",
    "\n",
    " Vinícius dos Passos de Souza, RA: 11201922119\n",
    "\n",
    "---\n",
    "\n"
   ]
  },
  {
   "cell_type": "markdown",
   "metadata": {
    "id": "sJgSSyuA9aDH"
   },
   "source": [
    "**Código para cálculo de MMQ($x$,$y$,$\\sigma_y$)**"
   ]
  },
  {
   "cell_type": "code",
   "execution_count": 18,
   "metadata": {
    "id": "g-WdO_1s9Zpw"
   },
   "outputs": [],
   "source": [
    "import numpy as np\n",
    "def MMQ(x,y,ey):\n",
    "  #SOMA Y/ERRO^2\n",
    "  s1=0\n",
    "  #SOMA X/ERRO^2\n",
    "  s2=0\n",
    "  #SOMA 1/ERRO^2\n",
    "  s3=0\n",
    "  #SOMA X*Y/ERRO^2\n",
    "  s4=0\n",
    "  #SOMA X^2/ERRO^2\n",
    "  s5=0\n",
    "  for i in range(len(y)):\n",
    "      s1= (y[i])/((ey[i])**2)+s1\n",
    "      s2 = (x[i])/((ey[i])**2)+s2\n",
    "      s3= 1/((ey[i])**2)+s3\n",
    "      s4= (x[i]*y[i])/((ey[i])**2)+s4\n",
    "      s5 = ((x[i])**2)/((ey[i])**2)+s5\n",
    "  v=(len(y))/s3\n",
    "  v1=s5/s3\n",
    "  v2=s2/s3\n",
    "  a = (s1*s2-s3*s4)/(s2**2-s5*s3)\n",
    "\n",
    "  return [a,(v/((v1-v2**2)*len(y)))**0.5, \n",
    "   (s1-a*s2)/(s3),(v*v1/((v1-v2**2)*len(y)))**0.5]\n",
    "#Devolve lista com (coef. angular, erro coef. angular, coef linear, erro coef linear)"
   ]
  },
  {
   "cell_type": "markdown",
   "metadata": {
    "id": "xTKoKFkJdVgy"
   },
   "source": [
    "Teste de função para cálculo de MMQ, se temos reta com coeficiente angular 1 e coeficiente linear 0, com pontos (0,0),(1,1),(2,2),(3,3),(4,4) e (5,5) obtemos com esse MMQ.\n"
   ]
  },
  {
   "cell_type": "code",
   "execution_count": 19,
   "metadata": {
    "colab": {
     "base_uri": "https://localhost:8080/"
    },
    "id": "oQmM09XQdhGU",
    "outputId": "0275e510-25ea-49e7-c681-7a02f70616a9"
   },
   "outputs": [
    {
     "name": "stdout",
     "output_type": "stream",
     "text": [
      "Reta: y=(1.0+-0.2)x+(0.0+-0.7)\n"
     ]
    }
   ],
   "source": [
    "x = [0,1,2,3,4,5]\n",
    "y=[0,1,2,3,4,5]\n",
    "\n",
    "\n",
    "\n",
    "ey = np.ones(len(y))\n",
    "s = MMQ(x,y,ey)\n",
    "print(f'Reta: y=({s[0]}+-{round(s[1],1)})x+({s[2]}+-{round(s[3],1)})')"
   ]
  },
  {
   "cell_type": "markdown",
   "metadata": {
    "id": "A-fUA2jUdmEU"
   },
   "source": [
    "Código devolveu reta com mesmo coeficiente angular e linear, com incerteza relativamente próxima"
   ]
  },
  {
   "cell_type": "markdown",
   "metadata": {
    "id": "kz-xUmU69sXx"
   },
   "source": [
    "**Adicionar os \n",
    "[DADOS](https://docs.google.com/spreadsheets/d/1q-8xOw1EE0psHPJ1pSev5nO3KmDRLxQCwZuKGJqe-e0/edit?usp=sharing)**\n",
    "\n",
    "Baixar essa planilha e adicionar para esse programa ler"
   ]
  },
  {
   "cell_type": "code",
   "execution_count": 20,
   "metadata": {
    "id": "hBuXYZCT60Qk"
   },
   "outputs": [],
   "source": [
    "#Adicionar excel aqui e ler ele\n",
    "import pandas as pd\n",
    "excel = pd.ExcelFile('Lab1_exp2.xlsx')\n",
    "\n",
    "data = pd.read_excel(excel,'Tabela')"
   ]
  },
  {
   "cell_type": "code",
   "execution_count": 21,
   "metadata": {
    "id": "3OV4s3e5_Olr"
   },
   "outputs": [],
   "source": [
    "#Colocar os dados nas listas\n",
    "import numpy as np\n",
    "#alturas\n",
    "x =np.array(data['h (m)'].values)\n",
    "ex = np.array(data['eh'].values)\n",
    "\n",
    "\n",
    "#tempos ao quadrado\n",
    "t=data['t2'].values\n",
    "et = data['e_t2'].values\n",
    "\n",
    "#tempos medios\n",
    "tm=data['t'].values\n",
    "etm=data['et'].values"
   ]
  },
  {
   "cell_type": "markdown",
   "metadata": {
    "id": "LMVO3FyNA8bP"
   },
   "source": [
    "**Cacular coeficientes da reta feita de $h=at^2+b$**"
   ]
  },
  {
   "cell_type": "code",
   "execution_count": 22,
   "metadata": {
    "colab": {
     "base_uri": "https://localhost:8080/"
    },
    "id": "asTgAtsdBBaA",
    "outputId": "879621ae-adf7-4863-aacb-ba51a4a38add"
   },
   "outputs": [
    {
     "name": "stdout",
     "output_type": "stream",
     "text": [
      "Reta: h = (0.012885+-8.3e-05)t^2+(0.002+-0.002)\n",
      "---------------------------\n",
      " \\(0.1+-0.001\\)& \\(7.63+-0.05\\) \\\\ \n",
      " \\(0.15+-0.001\\)& \\(11.51+-0.04\\) \\\\ \n",
      " \\(0.2+-0.001\\)& \\(15.35+-0.05\\) \\\\ \n",
      " \\(0.25+-0.001\\)& \\(19.23+-0.06\\) \\\\ \n",
      " \\(0.3+-0.001\\)& \\(23.11+-0.08\\) \\\\ \n",
      " \\(0.35+-0.001\\)& \\(27.05+-0.06\\) \\\\ \n"
     ]
    }
   ],
   "source": [
    "#Lista com coeficientes a, ea, b ,eb\n",
    "c=[0,0,0,0]\n",
    "\n",
    "c=MMQ(t,x,ex)\n",
    "print(f'Reta: h = ({round(c[0],6)}+-{round(c[1],6)})t^2+({round(c[2],3)}+-{round(c[3],3)})')\n",
    "print('---------------------------')\n",
    "for i in range(len(x)):\n",
    "  print(f' \\({round(x[i],3)}+-{round(ex[i],3)}\\)& \\({round(t[i],2)}+-{round(et[i],2)}\\) \\\\\\ ')"
   ]
  },
  {
   "cell_type": "markdown",
   "metadata": {
    "id": "MXBiMuteBHaK"
   },
   "source": [
    "**Plotar gráfico de $h$ $(m)$ VS $t^2$ $(s^2)$**"
   ]
  },
  {
   "cell_type": "code",
   "execution_count": 23,
   "metadata": {
    "colab": {
     "base_uri": "https://localhost:8080/",
     "height": 304
    },
    "id": "rQy01NokBQ7T",
    "outputId": "2927ab5f-42c7-4b58-b360-2f29662ef1da"
   },
   "outputs": [
    {
     "data": {
      "image/png": "[encoded data removed]",
      "text/plain": [
       "<Figure size 432x288 with 1 Axes>"
      ]
     },
     "metadata": {
      "needs_background": "light"
     },
     "output_type": "display_data"
    }
   ],
   "source": [
    "import matplotlib.pyplot as plt\n",
    "\n",
    "\n",
    "#plot dos pontos\n",
    "plt.plot(t,x,'o',color = 'gray', label = 'Pontos Experimentais')\n",
    "#plot das retas\n",
    "plt.plot(t,t*c[0]+c[2],'-',color = 'black',label = 'Ajuste Linear ')\n",
    "\n",
    "#plot errorbar\n",
    "#colcoar legenda da error bar\n",
    "plt.errorbar(t,x,yerr = ex,fmt='o',label = 'Erro $h$')\n",
    "plt.errorbar(t,x,xerr=et,fmt='o',label = 'Erro $t^2$')\n",
    "\n",
    "#plt.legend(bbox_to_anchor=(1.02, 1), loc='upper left', borderaxespad=0)#tirar se n quiser legenda\n",
    "plt.legend()\n",
    "\n",
    "#plt.ylim([0,0.9]) #arruma tamanho eixo y\n",
    "#plt.xlim([0,6]) #arrumar tamanho eixo x\n",
    "\n",
    "plt.title('Gráfico de h (m) VS $t^2$ $(s^2)$')\n",
    "plt.xlabel('$t^2$($s^2$)')\n",
    "plt.ylabel('h (m)')\n",
    "plt.show()"
   ]
  },
  {
   "cell_type": "markdown",
   "metadata": {
    "id": "QSyqR61BN4uE"
   },
   "source": [
    "**Adicionar Massa da roda $m$ e raios , $r$ e $R$**"
   ]
  },
  {
   "cell_type": "code",
   "execution_count": 24,
   "metadata": {
    "colab": {
     "base_uri": "https://localhost:8080/"
    },
    "id": "e-M2a76JN3KU",
    "outputId": "c70ddeed-8746-4f0b-9007-14d124b7b92c"
   },
   "outputs": [
    {
     "name": "stdout",
     "output_type": "stream",
     "text": [
      "I=(1.6623+-0.001)g m^2\n"
     ]
    }
   ],
   "source": [
    "g=9.8\n",
    "#MASSA EM Kg\n",
    "m=0.50929 #massa original do corpo suspenso\n",
    "em=0.00001 #erro da massa original do corpo suspenso\n",
    "\n",
    "#Raios em m\n",
    "R=0.06405\n",
    "eR=0.00003\n",
    "\n",
    "R_i =0.04925\n",
    "\n",
    "r=0.00250\n",
    "er=0.00003\n",
    "\n",
    "#Calcular momento de inércia\n",
    "I = 1/2*m*(R**2+R_i**2)\n",
    "eI = 1/2*np.sqrt((R**2*em)**2+(2*m*R*eR)**2)\n",
    "\n",
    "print(f'I=({round(I,7)*1000}+-{round(eI,7)*1000})g m^2')"
   ]
  },
  {
   "cell_type": "markdown",
   "metadata": {
    "id": "pw9xidH0Sj8n"
   },
   "source": [
    "**Com modelo teórico temos que**\n",
    "\n",
    "$A = \\frac{1}{2}\\frac{mr^2}{mr^2+I}g$ $\\implies$ $I = mr^2 \\left ( \\frac{1}{2A}g-1 \\right )$\n",
    "\n",
    "$\\sigma_I = \\pm \\sqrt{ r^4 \\sigma_m^2\\left( \\frac{1}{2A}g-1\\right)^2 +\\left(2mr \\sigma_r \\left ( \\frac{1}{2A}g-1 \\right ) \\right)^2 + \\left( mr^2 \\sigma_A \\frac{1}{A^2}g \\right)^2 }$"
   ]
  },
  {
   "cell_type": "code",
   "execution_count": 65,
   "metadata": {
    "colab": {
     "base_uri": "https://localhost:8080/"
    },
    "id": "6LNvozlh5k0S",
    "outputId": "ffc41102-0640-45a5-d2f1-d490b6f02518"
   },
   "outputs": [
    {
     "name": "stdout",
     "output_type": "stream",
     "text": [
      "I_ajuste = (1.2069999999999999+- 0.033)Kg m^2\n",
      "Desvio percentual -0.2737083640665595\\%\n"
     ]
    }
   ],
   "source": [
    "#momento de inércia com ajuste linear\n",
    "IA= m*r**2 * (g/(2*c[0])-1)\n",
    "e_IA = np.sqrt(r**4*em**2*(g/(2*c[0])-1)**2+4*m**2*r**2*er**2*(g/(2*c[0])-1)**2+(m*r**2*c[1]*g/(c[0]**2))**2)\n",
    "\n",
    "print(f'I_ajuste = ({round(IA,6)*1000}+- {round(e_IA,6)*1000})Kg m^2')\n",
    "print(f'Desvio percentual {IA/I-1}\\%')"
   ]
  },
  {
   "cell_type": "markdown",
   "metadata": {
    "id": "v8JY3Z7Aof8I"
   },
   "source": [
    "**Daria para achar a gravidade ao fazer um gráfico de $A$ VS $\\frac{1}{2}\\frac{mr^2}{mr^2+I}$, da para tentar."
   ]
  },
  {
   "cell_type": "markdown",
   "metadata": {
    "id": "KXNgqTo0Tpl2"
   },
   "source": [
    "---\n",
    "---\n",
    "---\n",
    "**Obter as Velocidade**\n",
    "\n",
    "$v=\\frac{2h}{t_m} \\implies \\sigma_v = \\pm 2\\sqrt{ \\left ( \\frac{ \\sigma_{h}}{t_m} \\right )^2 + \\left ( \\frac{h \\sigma_{t_m} }{t_m^2} \\right )^2}$\n",
    "\n",
    "**Obter angulares**\n",
    "\n",
    "$\\omega = \\frac{v}{r} \\implies \\sigma_{\\omega}=\\pm \\sqrt{ \\left (\\frac{\\sigma_v}{r} \\right )^2+  \\left ( \\frac{\\sigma_r v }{r^2} \\right )^2} $"
   ]
  },
  {
   "cell_type": "code",
   "execution_count": 26,
   "metadata": {
    "colab": {
     "base_uri": "https://localhost:8080/"
    },
    "id": "3kRR1WzVT1Me",
    "outputId": "875b3f50-9728-4393-d1c0-d6295d4001bf"
   },
   "outputs": [
    {
     "name": "stdout",
     "output_type": "stream",
     "text": [
      "\\(0.0724 \\pm 0.001\\) & \\( 29.0\\pm0.5\\) \\\\ \n",
      "\\(0.0884 \\pm 0.0008\\) & \\( 35.4\\pm0.5\\) \\\\ \n",
      "\\(0.1021 \\pm 0.0007\\) & \\( 40.8\\pm0.6\\) \\\\ \n",
      "\\(0.114 \\pm 0.0006\\) & \\( 45.6\\pm0.6\\) \\\\ \n",
      "\\(0.1248 \\pm 0.0006\\) & \\( 49.9\\pm0.6\\) \\\\ \n",
      "\\(0.1346 \\pm 0.0005\\) & \\( 53.8\\pm0.7\\) \\\\ \n"
     ]
    }
   ],
   "source": [
    "#velocidades lineares\n",
    "v=np.ones(len(t))\n",
    "ev=np.ones(len(t))\n",
    "\n",
    "#velocidades angulares\n",
    "w = np.ones(len(t))\n",
    "ew = np.ones(len(t))\n",
    "\n",
    "for i in range(len(t)):\n",
    "  #um\n",
    "  #v[i] = c[0]*tm[i]\n",
    "  v[i]=2*x[i]/tm[i]\n",
    "  ev[i]= 2*np.sqrt((ex[i]/tm[i])**2+(x[i]*etm[i]/(tm[i]**2))**2)\n",
    "  # outro\n",
    "  w[i]=v[i]/r\n",
    "  ew[i] = np.sqrt( (ev[i]/r)**2 +(er*v[i]/(r**2))**2 )\n",
    "  \n",
    "  print(f'\\({round(v[i],4)} \\pm {round(ev[i],4)}\\) & \\( {round(w[i],1)}\\pm{round(ew[i],1)}\\) \\\\\\ ') #printe se quiser fazer tabela "
   ]
  },
  {
   "cell_type": "markdown",
   "metadata": {
    "id": "cbz0rU22XaI4"
   },
   "source": [
    "**calcular energias**\n",
    "\n",
    "$E_{pi} = mgh \\implies \\sigma_{E_p} = \\pm g\\sqrt{(\\sigma_mh_i)^2 + (\\sigma_hm)^2}$, sendo h a altura que a roda está do sensor.\n",
    "\n",
    "$E_{ti} = \\frac{1}{2}mv^2  \\implies \\sigma_{E_t} = \\pm \\frac{1}{2}\\sqrt{(v^2\\sigma_m)^2+(2mv \\sigma_v)^2}$\n",
    "\n",
    "$E_{ri} = \\frac{1}{2}I \\omega^2 \\implies \\sigma_{E_r} = \\pm \\frac{1}{2} \\sqrt{(\\omega^2\\sigma_I)^2+(2m\\omega \\sigma_{\\omega})^2}$"
   ]
  },
  {
   "cell_type": "code",
   "execution_count": 27,
   "metadata": {
    "colab": {
     "base_uri": "https://localhost:8080/"
    },
    "id": "C6hQ89rjWIf9",
    "outputId": "e80887e3-0497-4494-e4d1-c6dae29d93ec"
   },
   "outputs": [
    {
     "name": "stdout",
     "output_type": "stream",
     "text": [
      "\\(0.499 \\pm 0.007 \\) & \\(0.001335\\pm3.6e-05\\) & \\(0.51\\pm 0.02) \\) & \\(0.009\\pm0.024 \\) \\\\ \n",
      "\\(0.749 \\pm 0.007 \\) & \\(0.001991\\pm3.6e-05\\) & \\(0.76\\pm 0.03) \\) & \\(0.009\\pm0.031 \\) \\\\ \n",
      "\\(0.998 \\pm 0.007 \\) & \\(0.002655\\pm3.6e-05\\) & \\(1.01\\pm 0.04) \\) & \\(0.012\\pm0.04 \\) \\\\ \n",
      "\\(1.248 \\pm 0.007 \\) & \\(0.00331\\pm3.6e-05\\) & \\(1.26\\pm 0.05) \\) & \\(0.011\\pm0.048 \\) \\\\ \n",
      "\\(1.497 \\pm 0.007 \\) & \\(0.003967\\pm3.6e-05\\) & \\(1.5\\pm 0.06) \\) & \\(0.011\\pm0.057 \\) \\\\ \n",
      "\\(1.747 \\pm 0.007 \\) & \\(0.004612\\pm3.6e-05\\) & \\(1.75\\pm 0.06) \\) & \\(0.007\\pm0.065 \\) \\\\ \n"
     ]
    }
   ],
   "source": [
    "#energias \n",
    "Ep = np.ones(len(x))\n",
    "eEp = np.ones(len(x))\n",
    "Et = np.ones(len(x))\n",
    "eEt= np.ones(len(x))\n",
    "Er= np.ones(len(x))\n",
    "eEr = np.ones(len(x))\n",
    "\n",
    "Em = np.ones(len(x))\n",
    "eEm = np.ones(len(x))\n",
    "\n",
    "for i in range(len(x)):\n",
    "  #potencial\n",
    "  Ep[i] = m*g*(x[i])\n",
    "  eEp[i] = g* np.sqrt((em*x[i])**2+(ex[i]*m)**2)\n",
    "  #transla\n",
    "  Et[i] = m/2 * v[i]**2\n",
    "  eEt[i] = 1/2* np.sqrt((v[i]**2*em)**2+(2*m*v[i]*ev[i])**2)\n",
    "  #rotacional\n",
    "  Er[i] = IA/2*w[i]**2\n",
    "  eEr[i] = 1/2* np.sqrt((w[i]**2*e_IA)**2+(2*IA*w[i]*ew[i])**2)\n",
    "  #energia sistema\n",
    "  Em[i] = -Ep[i]+Et[i]+Er[i]\n",
    "  eEm[i] = np.sqrt(eEp[i]**2+eEt[i]**2+eEr[i]**2) \n",
    "\n",
    "  print(f'\\({round(Ep[i],3)} \\pm {round(eEp[i],3)} \\) & \\({round(Et[i],6)}\\pm{round(eEt[i],6)}\\) & \\({round(Er[i],2)}\\pm {round(eEr[i],2)}) \\) & \\({round(Em[i],3)}\\pm{round(eEm[i],3)} \\) \\\\\\ ')#ajudar a printar tabela"
   ]
  },
  {
   "cell_type": "markdown",
   "metadata": {
    "id": "Yui3o4l8YRwI"
   },
   "source": []
  },
  {
   "cell_type": "markdown",
   "metadata": {
    "id": "OQ-dUxkuc2v3"
   },
   "source": [
    "**Plotar Gráfico das Energias**"
   ]
  },
  {
   "cell_type": "code",
   "execution_count": 28,
   "metadata": {
    "colab": {
     "base_uri": "https://localhost:8080/",
     "height": 295
    },
    "id": "4aKBHSOtXk_b",
    "outputId": "ef9a6211-117d-4635-c72a-bd68dba48e02"
   },
   "outputs": [
    {
     "data": {
      "image/png": "[encoded data removed]",
      "text/plain": [
       "<Figure size 432x288 with 1 Axes>"
      ]
     },
     "metadata": {
      "needs_background": "light"
     },
     "output_type": "display_data"
    }
   ],
   "source": [
    "plt.plot(x,-Ep,'o',color = 'red',label='Energia Potencial')\n",
    "plt.plot(x,Et,'o',color = 'green',label='Energia Translacional')\n",
    "plt.plot(x,Er,'x',color = 'blue',label='Energia Rotacional')\n",
    "plt.plot(x,Em,':',color = 'black',label='Energia do Sistema')\n",
    "\n",
    "#plotar error bar\n",
    "#plt.errorbar(tm, Ep,yerr=eEp,xerr=etm,fmt='o')\n",
    "#plt.errorbar(tm, Et, yerr=eEt,xerr=etm,fmt='o')        \n",
    "#plt.errorbar(tm, Er, yerr=eEr,xerr=etm,fmt='o')  \n",
    "\n",
    "#plt.ylim([0,0.75])\n",
    "#plt.xlim([-0.0005,0.0708])\n",
    "plt.legend(bbox_to_anchor=(1.02, 1), loc='upper left', borderaxespad=0)#tirar se n quiser legenda\n",
    "plt.title('Energia (J) VS distância (m) ')\n",
    "plt.ylabel('Energia (J)')\n",
    "plt.xlabel('h (m)')\n",
    "plt.show()"
   ]
  },
  {
   "cell_type": "markdown",
   "metadata": {
    "id": "d8gdKCUdCeMa"
   },
   "source": [
    "---\n",
    "---\n",
    "---\n",
    "**Analisar Energia em função do $t^2$**\n",
    "\n",
    "Em tese substituindo o que $h$ e $v$ são seria possível achar ajustes lineares para Energia em função de $t^2$ e com elas em tese teria um gráfico mais bonito "
   ]
  },
  {
   "cell_type": "code",
   "execution_count": 59,
   "metadata": {
    "colab": {
     "base_uri": "https://localhost:8080/",
     "height": 304
    },
    "id": "EN1eSxybCiVi",
    "outputId": "79ae20e0-4e13-43eb-fda7-676d5730cfef"
   },
   "outputs": [
    {
     "data": {
      "image/png": "[encoded data removed]",
      "text/plain": [
       "<Figure size 432x288 with 1 Axes>"
      ]
     },
     "metadata": {
      "needs_background": "light"
     },
     "output_type": "display_data"
    }
   ],
   "source": [
    "a1 = MMQ(t,Ep,eEp)\n",
    "a2 = MMQ(t,Et,eEt)\n",
    "a3 = MMQ(t,Er,eEr)\n",
    "a4 = MMQ(t,Em,eEm)\n",
    "\n",
    "plt.plot(t,Ep,'o',color='black',label='Pontos Experimentais')\n",
    "plt.plot(t,a1[0]*t+a1[3],':',color = 'red', label= 'Ajuste de curva')\n",
    "#plt.plot(t,a2[0]*t+a2[3],'o',color = 'green',label='Energia Translacional')\n",
    "#plt.plot(t,a3[0]*t+a3[3],'x',color = 'blue',label = 'Energia Rotacional')\n",
    "#plt.plot(t,a4[0]*t+a4[3],'o',color = 'black',label = 'Energia Mecânica')\n",
    "\n",
    "#plotar error bar\n",
    "#plt.errorbar(G, a,yerr=ea,fmt='o', label = 'Error bar')\n",
    "#plt.errorbar(G, a, xerr=eG,fmt='o', label = 'Error bar')        \n",
    "\n",
    "\n",
    "#plt.ylim([0,0.75])\n",
    "#plt.xlim([-0.0005,0.0708])\n",
    "plt.legend()\n",
    "plt.title('Energia Potencial (J) VS tempo ao quadrado ($s^2$) ')\n",
    "plt.ylabel('Energia (J)')\n",
    "plt.xlabel('$t^2$ ($s^2$)')\n",
    "plt.show()"
   ]
  },
  {
   "cell_type": "markdown",
   "metadata": {
    "id": "Tf3NCJbZMIzf"
   },
   "source": [
    "$E_p = mgAt^2$ \n",
    "\n",
    "Usando $E_p = Bt^2+C$\n",
    "\n",
    "$B = mgA$\n",
    "\n",
    "$\\implies$ $ g=\\frac{B}{Am}$\n",
    "\n",
    "---\n",
    "---\n",
    "---"
   ]
  },
  {
   "cell_type": "code",
   "execution_count": 64,
   "metadata": {
    "id": "mOx2DUzdANpt"
   },
   "outputs": [
    {
     "name": "stdout",
     "output_type": "stream",
     "text": [
      "g=9.800000243628517\n",
      "eg=0.08920658434815552\n",
      "------------\n",
      "Desvio percentual 0.0013815226341358233\\%\n"
     ]
    }
   ],
   "source": [
    "print(f'g={a1[0]/(c[0]*m)}')\n",
    "print(f'eg={np.sqrt( (a1[1]/(c[0]*m))**2+(a1[0]*c[1]/(m*c[0]**2))**2 +(em*a1[0]/(c[0]*m**2))**2  )}')\n",
    "print('------------')\n",
    "\n",
    "print(f'Desvio percentual {(a1[0]/(c[0]*m))/9.78648-1}\\%')"
   ]
  },
  {
   "cell_type": "code",
   "execution_count": null,
   "metadata": {},
   "outputs": [],
   "source": []
  }
 ],
 "metadata": {
  "colab": {
   "collapsed_sections": [],
   "provenance": []
  },
  "kernelspec": {
   "display_name": "Python 3",
   "language": "python",
   "name": "python3"
  },
  "language_info": {
   "codemirror_mode": {
    "name": "ipython",
    "version": 3
   },
   "file_extension": ".py",
   "mimetype": "text/x-python",
   "name": "python",
   "nbconvert_exporter": "python",
   "pygments_lexer": "ipython3",
   "version": "3.8.8"
  }
 },
 "nbformat": 4,
 "nbformat_minor": 1
}
